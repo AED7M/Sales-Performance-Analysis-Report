{
 "cells": [
  {
   "cell_type": "markdown",
   "metadata": {},
   "source": [
    "# Data Import"
   ]
  },
  {
   "cell_type": "markdown",
   "metadata": {},
   "source": [
    "### Import Necessary Libraries"
   ]
  },
  {
   "cell_type": "code",
   "execution_count": 48,
   "metadata": {},
   "outputs": [],
   "source": [
    "import pandas as pd\n",
    "import matplotlib.pyplot as plt\n",
    "import seaborn as sns\n",
    "import numpy as np"
   ]
  },
  {
   "cell_type": "markdown",
   "metadata": {},
   "source": [
    "### Load the Dataset"
   ]
  },
  {
   "cell_type": "markdown",
   "metadata": {},
   "source": []
  },
  {
   "cell_type": "code",
   "execution_count": 49,
   "metadata": {},
   "outputs": [],
   "source": [
    "path = r\"add your file path\"\n",
    "salesreport = pd.read_csv(path, sep=',')"
   ]
  },
  {
   "cell_type": "markdown",
   "metadata": {},
   "source": [
    "### Data Loading Verification"
   ]
  },
  {
   "cell_type": "code",
   "execution_count": 50,
   "metadata": {},
   "outputs": [
    {
     "data": {
      "text/html": [
       "<div>\n",
       "<style scoped>\n",
       "    .dataframe tbody tr th:only-of-type {\n",
       "        vertical-align: middle;\n",
       "    }\n",
       "\n",
       "    .dataframe tbody tr th {\n",
       "        vertical-align: top;\n",
       "    }\n",
       "\n",
       "    .dataframe thead th {\n",
       "        text-align: right;\n",
       "    }\n",
       "</style>\n",
       "<table border=\"1\" class=\"dataframe\">\n",
       "  <thead>\n",
       "    <tr style=\"text-align: right;\">\n",
       "      <th></th>\n",
       "      <th>week</th>\n",
       "      <th>sales_method</th>\n",
       "      <th>customer_id</th>\n",
       "      <th>nb_sold</th>\n",
       "      <th>revenue</th>\n",
       "      <th>years_as_customer</th>\n",
       "      <th>nb_site_visits</th>\n",
       "      <th>state</th>\n",
       "    </tr>\n",
       "  </thead>\n",
       "  <tbody>\n",
       "    <tr>\n",
       "      <th>0</th>\n",
       "      <td>2</td>\n",
       "      <td>Email</td>\n",
       "      <td>2e72d641-95ac-497b-bbf8-4861764a7097</td>\n",
       "      <td>10</td>\n",
       "      <td>NaN</td>\n",
       "      <td>0</td>\n",
       "      <td>24</td>\n",
       "      <td>Arizona</td>\n",
       "    </tr>\n",
       "    <tr>\n",
       "      <th>1</th>\n",
       "      <td>6</td>\n",
       "      <td>Email + Call</td>\n",
       "      <td>3998a98d-70f5-44f7-942e-789bb8ad2fe7</td>\n",
       "      <td>15</td>\n",
       "      <td>225.47</td>\n",
       "      <td>1</td>\n",
       "      <td>28</td>\n",
       "      <td>Kansas</td>\n",
       "    </tr>\n",
       "    <tr>\n",
       "      <th>2</th>\n",
       "      <td>5</td>\n",
       "      <td>Call</td>\n",
       "      <td>d1de9884-8059-4065-b10f-86eef57e4a44</td>\n",
       "      <td>11</td>\n",
       "      <td>52.55</td>\n",
       "      <td>6</td>\n",
       "      <td>26</td>\n",
       "      <td>Wisconsin</td>\n",
       "    </tr>\n",
       "    <tr>\n",
       "      <th>3</th>\n",
       "      <td>4</td>\n",
       "      <td>Email</td>\n",
       "      <td>78aa75a4-ffeb-4817-b1d0-2f030783c5d7</td>\n",
       "      <td>11</td>\n",
       "      <td>NaN</td>\n",
       "      <td>3</td>\n",
       "      <td>25</td>\n",
       "      <td>Indiana</td>\n",
       "    </tr>\n",
       "    <tr>\n",
       "      <th>4</th>\n",
       "      <td>3</td>\n",
       "      <td>Email</td>\n",
       "      <td>10e6d446-10a5-42e5-8210-1b5438f70922</td>\n",
       "      <td>9</td>\n",
       "      <td>90.49</td>\n",
       "      <td>0</td>\n",
       "      <td>28</td>\n",
       "      <td>Illinois</td>\n",
       "    </tr>\n",
       "  </tbody>\n",
       "</table>\n",
       "</div>"
      ],
      "text/plain": [
       "   week  sales_method                           customer_id  nb_sold  revenue  \\\n",
       "0     2         Email  2e72d641-95ac-497b-bbf8-4861764a7097       10      NaN   \n",
       "1     6  Email + Call  3998a98d-70f5-44f7-942e-789bb8ad2fe7       15   225.47   \n",
       "2     5          Call  d1de9884-8059-4065-b10f-86eef57e4a44       11    52.55   \n",
       "3     4         Email  78aa75a4-ffeb-4817-b1d0-2f030783c5d7       11      NaN   \n",
       "4     3         Email  10e6d446-10a5-42e5-8210-1b5438f70922        9    90.49   \n",
       "\n",
       "   years_as_customer  nb_site_visits      state  \n",
       "0                  0              24    Arizona  \n",
       "1                  1              28     Kansas  \n",
       "2                  6              26  Wisconsin  \n",
       "3                  3              25    Indiana  \n",
       "4                  0              28   Illinois  "
      ]
     },
     "execution_count": 50,
     "metadata": {},
     "output_type": "execute_result"
    }
   ],
   "source": [
    "salesreport.head()"
   ]
  },
  {
   "cell_type": "markdown",
   "metadata": {},
   "source": [
    "The data appears to have been loaded correctly."
   ]
  },
  {
   "cell_type": "markdown",
   "metadata": {},
   "source": [
    "# Data validation"
   ]
  },
  {
   "cell_type": "markdown",
   "metadata": {},
   "source": [
    "## Date type validation"
   ]
  },
  {
   "cell_type": "markdown",
   "metadata": {},
   "source": [
    "To validate the data, we first identified whether each column is categorical or continuous. We determined that `customer_id`, `week`, `sales_method`, and `state` are categorical variables as they contain a limited set of distinct values. Conversely, `nb_sold`, `revenue`, `years_as_customer`, and `nb_site_visits` were classified as continuous variables due to their wide range of numerical values."
   ]
  },
  {
   "cell_type": "markdown",
   "metadata": {},
   "source": [
    "### Checking Pandas Data Types\n",
    "To verify how Pandas has assigned data types to the columns, we utilize the `dtypes` attribute."
   ]
  },
  {
   "cell_type": "code",
   "execution_count": 51,
   "metadata": {},
   "outputs": [
    {
     "data": {
      "text/plain": [
       "week                   int64\n",
       "sales_method          object\n",
       "customer_id           object\n",
       "nb_sold                int64\n",
       "revenue              float64\n",
       "years_as_customer      int64\n",
       "nb_site_visits         int64\n",
       "state                 object\n",
       "dtype: object"
      ]
     },
     "execution_count": 51,
     "metadata": {},
     "output_type": "execute_result"
    }
   ],
   "source": [
    "salesreport.dtypes"
   ]
  },
  {
   "cell_type": "markdown",
   "metadata": {},
   "source": [
    "Pandas initially categorized the `week` column as a numerical data type. Given the presence of only six distinct values, reclassifying it as a categorical variable is more suitable for analysis. Additionally, the `sales_method`, `customer_id`, and `state` columns will be converted from object data type to categorical to accurately represent their categorical nature."
   ]
  },
  {
   "cell_type": "code",
   "execution_count": 52,
   "metadata": {},
   "outputs": [],
   "source": [
    "salesreport['week'] = salesreport['week'].astype('category')\n",
    "salesreport['sales_method'] = salesreport['sales_method'].astype('category')\n",
    "salesreport['customer_id'] = salesreport['customer_id'].astype('category')\n",
    "salesreport['state'] = salesreport['state'].astype('category')\n"
   ]
  },
  {
   "cell_type": "code",
   "execution_count": 53,
   "metadata": {},
   "outputs": [
    {
     "data": {
      "text/plain": [
       "week                 category\n",
       "sales_method         category\n",
       "customer_id          category\n",
       "nb_sold                 int64\n",
       "revenue               float64\n",
       "years_as_customer       int64\n",
       "nb_site_visits          int64\n",
       "state                category\n",
       "dtype: object"
      ]
     },
     "execution_count": 53,
     "metadata": {},
     "output_type": "execute_result"
    }
   ],
   "source": [
    "salesreport.dtypes"
   ]
  },
  {
   "cell_type": "markdown",
   "metadata": {},
   "source": [
    "Upon re-inspection, all columns now exhibit correct data types."
   ]
  },
  {
   "cell_type": "markdown",
   "metadata": {},
   "source": [
    "## Column-Level Data Validation"
   ]
  },
  {
   "cell_type": "code",
   "execution_count": 54,
   "metadata": {},
   "outputs": [
    {
     "data": {
      "text/plain": [
       "(15000, 8)"
      ]
     },
     "execution_count": 54,
     "metadata": {},
     "output_type": "execute_result"
    }
   ],
   "source": [
    "salesreport.shape"
   ]
  },
  {
   "cell_type": "markdown",
   "metadata": {},
   "source": [
    "### before Data Validation"
   ]
  },
  {
   "cell_type": "markdown",
   "metadata": {},
   "source": [
    "The dataset contains **15000 rows and 8 columns** before cleaning and validataion."
   ]
  },
  {
   "cell_type": "markdown",
   "metadata": {},
   "source": [
    "### categorical columns"
   ]
  },
  {
   "cell_type": "markdown",
   "metadata": {},
   "source": [
    "We will proceed with a detailed analysis of each column to verify data quality and consistency."
   ]
  },
  {
   "cell_type": "markdown",
   "metadata": {},
   "source": [
    "We will begin by examining the categorical columns: `sales_method`, `customer_id`, `state`, and the `week` column. These columns will be Inspected for inconsistencies, missing values, and unexpected data entries."
   ]
  },
  {
   "cell_type": "markdown",
   "metadata": {},
   "source": [
    "#### 1.`sales_method`"
   ]
  },
  {
   "cell_type": "markdown",
   "metadata": {},
   "source": [
    "The `sales_method` column sholud include one of the three sales methods were used for that\n",
    "customer"
   ]
  },
  {
   "cell_type": "code",
   "execution_count": 55,
   "metadata": {},
   "outputs": [
    {
     "data": {
      "text/plain": [
       "0"
      ]
     },
     "execution_count": 55,
     "metadata": {},
     "output_type": "execute_result"
    }
   ],
   "source": [
    "salesreport['sales_method'].isna().sum()"
   ]
  },
  {
   "cell_type": "markdown",
   "metadata": {},
   "source": [
    "No missing values were detected"
   ]
  },
  {
   "cell_type": "code",
   "execution_count": 56,
   "metadata": {},
   "outputs": [
    {
     "data": {
      "text/plain": [
       "sales_method\n",
       "Email           7456\n",
       "Call            4962\n",
       "Email + Call    2549\n",
       "em + call         23\n",
       "email             10\n",
       "Name: count, dtype: int64"
      ]
     },
     "execution_count": 56,
     "metadata": {},
     "output_type": "execute_result"
    }
   ],
   "source": [
    "salesreport['sales_method'].value_counts()"
   ]
  },
  {
   "cell_type": "markdown",
   "metadata": {},
   "source": [
    "Typographical errors resulting in inconsistent categories have been identified."
   ]
  },
  {
   "cell_type": "code",
   "execution_count": 57,
   "metadata": {},
   "outputs": [],
   "source": [
    "salesreport.loc[salesreport['sales_method'] == 'email', 'sales_method'] = 'Email'\n",
    "salesreport.loc[salesreport['sales_method'] == 'em + call', 'sales_method'] = 'Email + Call'"
   ]
  },
  {
   "cell_type": "code",
   "execution_count": 58,
   "metadata": {},
   "outputs": [
    {
     "data": {
      "text/plain": [
       "sales_method\n",
       "Email           7466\n",
       "Call            4962\n",
       "Email + Call    2572\n",
       "Name: count, dtype: int64"
      ]
     },
     "execution_count": 58,
     "metadata": {},
     "output_type": "execute_result"
    }
   ],
   "source": [
    "salesreport['sales_method'] = salesreport['sales_method'].cat.remove_unused_categories()\n",
    "salesreport['sales_method'].value_counts()"
   ]
  },
  {
   "cell_type": "markdown",
   "metadata": {},
   "source": [
    "The `sales_method` column has been validated "
   ]
  },
  {
   "cell_type": "markdown",
   "metadata": {},
   "source": [
    "#### 2.`customer_id`"
   ]
  },
  {
   "cell_type": "markdown",
   "metadata": {},
   "source": [
    "The `customer_id`column should include the unique identifier for the customer"
   ]
  },
  {
   "cell_type": "code",
   "execution_count": 59,
   "metadata": {},
   "outputs": [
    {
     "data": {
      "text/plain": [
       "0"
      ]
     },
     "execution_count": 59,
     "metadata": {},
     "output_type": "execute_result"
    }
   ],
   "source": [
    "salesreport['customer_id'].isna().sum()"
   ]
  },
  {
   "cell_type": "markdown",
   "metadata": {},
   "source": [
    "No missing values were detected"
   ]
  },
  {
   "cell_type": "code",
   "execution_count": 60,
   "metadata": {},
   "outputs": [
    {
     "data": {
      "text/plain": [
       "15000"
      ]
     },
     "execution_count": 60,
     "metadata": {},
     "output_type": "execute_result"
    }
   ],
   "source": [
    "#verifing the uniqueness of customer IDs\n",
    "salesreport['customer_id'].nunique()"
   ]
  },
  {
   "cell_type": "code",
   "execution_count": 61,
   "metadata": {},
   "outputs": [
    {
     "data": {
      "text/plain": [
       "True"
      ]
     },
     "execution_count": 61,
     "metadata": {},
     "output_type": "execute_result"
    }
   ],
   "source": [
    "# verifing if all the have the same length\n",
    "salesreport['customer_id'].map(len).nunique() == 1"
   ]
  },
  {
   "cell_type": "markdown",
   "metadata": {},
   "source": [
    "No inconsistencies were found within the `customer_id` column.\n"
   ]
  },
  {
   "cell_type": "markdown",
   "metadata": {},
   "source": [
    "The `customer_id` column has been validated "
   ]
  },
  {
   "cell_type": "markdown",
   "metadata": {},
   "source": [
    "#### 3. `state`"
   ]
  },
  {
   "cell_type": "markdown",
   "metadata": {},
   "source": [
    "The `state` column should includ a string for the location of the customer"
   ]
  },
  {
   "cell_type": "code",
   "execution_count": 62,
   "metadata": {},
   "outputs": [
    {
     "data": {
      "text/plain": [
       "0"
      ]
     },
     "execution_count": 62,
     "metadata": {},
     "output_type": "execute_result"
    }
   ],
   "source": [
    "salesreport['state'].isna().sum()"
   ]
  },
  {
   "cell_type": "markdown",
   "metadata": {},
   "source": [
    "No missing values were detected"
   ]
  },
  {
   "cell_type": "code",
   "execution_count": 63,
   "metadata": {},
   "outputs": [
    {
     "data": {
      "text/plain": [
       "state\n",
       "California        1872\n",
       "Texas             1187\n",
       "New York           965\n",
       "Florida            904\n",
       "Illinois           617\n",
       "Pennsylvania       598\n",
       "Ohio               566\n",
       "Michigan           498\n",
       "Georgia            489\n",
       "North Carolina     459\n",
       "New Jersey         434\n",
       "Virginia           372\n",
       "Indiana            354\n",
       "Tennessee          340\n",
       "Washington         335\n",
       "Arizona            321\n",
       "Missouri           311\n",
       "Massachusetts      294\n",
       "Maryland           263\n",
       "Wisconsin          253\n",
       "Minnesota          245\n",
       "Louisiana          230\n",
       "Colorado           230\n",
       "Oregon             229\n",
       "South Carolina     224\n",
       "Alabama            214\n",
       "Kentucky           213\n",
       "Oklahoma           196\n",
       "Connecticut        179\n",
       "Iowa               165\n",
       "Kansas             142\n",
       "Mississippi        139\n",
       "Arkansas           132\n",
       "Utah               124\n",
       "Nevada             102\n",
       "Nebraska            91\n",
       "West Virginia       85\n",
       "New Mexico          84\n",
       "Hawaii              72\n",
       "Maine               63\n",
       "Idaho               62\n",
       "New Hampshire       53\n",
       "Montana             45\n",
       "Rhode Island        43\n",
       "South Dakota        41\n",
       "Alaska              40\n",
       "Delaware            34\n",
       "Wyoming             33\n",
       "North Dakota        30\n",
       "Vermont             28\n",
       "Name: count, dtype: int64"
      ]
     },
     "execution_count": 63,
     "metadata": {},
     "output_type": "execute_result"
    }
   ],
   "source": [
    "salesreport['state'].value_counts()"
   ]
  },
  {
   "cell_type": "code",
   "execution_count": 64,
   "metadata": {},
   "outputs": [
    {
     "data": {
      "text/plain": [
       "50"
      ]
     },
     "execution_count": 64,
     "metadata": {},
     "output_type": "execute_result"
    }
   ],
   "source": [
    "salesreport['state'].str.lower().nunique()"
   ]
  },
  {
   "cell_type": "markdown",
   "metadata": {},
   "source": [
    "No inconsistencies were found within the `state` column."
   ]
  },
  {
   "cell_type": "markdown",
   "metadata": {},
   "source": [
    "The `state` column has been validated "
   ]
  },
  {
   "cell_type": "markdown",
   "metadata": {},
   "source": [
    "#### 4.`week`"
   ]
  },
  {
   "cell_type": "markdown",
   "metadata": {},
   "source": [
    "The `week` column has the Week sale was made, counted as weeks since product launch"
   ]
  },
  {
   "cell_type": "code",
   "execution_count": 65,
   "metadata": {},
   "outputs": [
    {
     "data": {
      "text/plain": [
       "0"
      ]
     },
     "execution_count": 65,
     "metadata": {},
     "output_type": "execute_result"
    }
   ],
   "source": [
    "salesreport['week'].isna().sum()"
   ]
  },
  {
   "cell_type": "markdown",
   "metadata": {},
   "source": [
    "No missing values were detected"
   ]
  },
  {
   "cell_type": "code",
   "execution_count": 66,
   "metadata": {},
   "outputs": [
    {
     "data": {
      "text/plain": [
       "week\n",
       "1    3721\n",
       "4    2575\n",
       "5    2574\n",
       "2    2491\n",
       "3    2411\n",
       "6    1228\n",
       "Name: count, dtype: int64"
      ]
     },
     "execution_count": 66,
     "metadata": {},
     "output_type": "execute_result"
    }
   ],
   "source": [
    "salesreport['week'].value_counts()"
   ]
  },
  {
   "cell_type": "markdown",
   "metadata": {},
   "source": [
    "No inconsistencies were found within the `week` column."
   ]
  },
  {
   "cell_type": "markdown",
   "metadata": {},
   "source": [
    "The `week` column has been validated "
   ]
  },
  {
   "cell_type": "markdown",
   "metadata": {},
   "source": [
    "### Continuous columns"
   ]
  },
  {
   "cell_type": "markdown",
   "metadata": {},
   "source": [
    "The continuous data will be checked for errors, missing values, and unusual numbers that fall outside of expected ranges or patterns."
   ]
  },
  {
   "cell_type": "markdown",
   "metadata": {},
   "source": [
    "#### 1.`nb_sold`"
   ]
  },
  {
   "cell_type": "markdown",
   "metadata": {},
   "source": [
    "This column should include number of new products sold for the customer"
   ]
  },
  {
   "cell_type": "code",
   "execution_count": 67,
   "metadata": {},
   "outputs": [
    {
     "data": {
      "text/plain": [
       "0"
      ]
     },
     "execution_count": 67,
     "metadata": {},
     "output_type": "execute_result"
    }
   ],
   "source": [
    "salesreport['nb_sold'].isnull().sum()"
   ]
  },
  {
   "cell_type": "markdown",
   "metadata": {},
   "source": [
    "No missing values were detected"
   ]
  },
  {
   "cell_type": "markdown",
   "metadata": {},
   "source": [
    "geting a summary statistic"
   ]
  },
  {
   "cell_type": "code",
   "execution_count": 68,
   "metadata": {},
   "outputs": [
    {
     "data": {
      "text/plain": [
       "count    15000.000000\n",
       "mean        10.084667\n",
       "std          1.812213\n",
       "min          7.000000\n",
       "25%          9.000000\n",
       "50%         10.000000\n",
       "75%         11.000000\n",
       "max         16.000000\n",
       "Name: nb_sold, dtype: float64"
      ]
     },
     "execution_count": 68,
     "metadata": {},
     "output_type": "execute_result"
    }
   ],
   "source": [
    "salesreport['nb_sold'].describe()"
   ]
  },
  {
   "cell_type": "markdown",
   "metadata": {},
   "source": [
    "Based on the summary statistics, the data for this column appears to have no outliers. The values range from 7 to 16 with a mean of 10.008, indicating a relatively consistent distribution."
   ]
  },
  {
   "cell_type": "markdown",
   "metadata": {},
   "source": [
    "The `nb_sold` column has been validated "
   ]
  },
  {
   "cell_type": "markdown",
   "metadata": {},
   "source": [
    "#### 2. `revenue`"
   ]
  },
  {
   "cell_type": "code",
   "execution_count": 69,
   "metadata": {},
   "outputs": [
    {
     "data": {
      "text/plain": [
       "count    13926.000000\n",
       "mean        93.934943\n",
       "std         47.435312\n",
       "min         32.540000\n",
       "25%         52.470000\n",
       "50%         89.500000\n",
       "75%        107.327500\n",
       "max        238.320000\n",
       "Name: revenue, dtype: float64"
      ]
     },
     "execution_count": 69,
     "metadata": {},
     "output_type": "execute_result"
    }
   ],
   "source": [
    "salesreport['revenue'].describe()"
   ]
  },
  {
   "cell_type": "markdown",
   "metadata": {},
   "source": [
    "This column should include revenue from the sales, rounded to 2 decimal places."
   ]
  },
  {
   "cell_type": "code",
   "execution_count": 70,
   "metadata": {},
   "outputs": [
    {
     "data": {
      "text/plain": [
       "1074"
      ]
     },
     "execution_count": 70,
     "metadata": {},
     "output_type": "execute_result"
    }
   ],
   "source": [
    "salesreport['revenue'].isnull().sum()"
   ]
  },
  {
   "cell_type": "markdown",
   "metadata": {},
   "source": [
    "The presence of missing values has been identified in the data. To assess the impact of these missing values on the analysis, it's crucial to determine if they are Missing Completely at Random (MCAR), Missing at Random (MAR), or Missing Not at Random (MNAR). This will involve investigating potential relationships between missingness and variables such as week, state and sales method."
   ]
  },
  {
   "cell_type": "code",
   "execution_count": 71,
   "metadata": {},
   "outputs": [
    {
     "name": "stderr",
     "output_type": "stream",
     "text": [
      "C:\\Users\\abood\\AppData\\Local\\Temp\\ipykernel_14116\\2423260977.py:1: FutureWarning: The default of observed=False is deprecated and will be changed to True in a future version of pandas. Pass observed=False to retain current behavior or observed=True to adopt the future default and silence this warning.\n",
      "  salesreport.groupby('week')['revenue'].apply(lambda x: x.isnull().sum()).sort_values(ascending = False)\n"
     ]
    },
    {
     "data": {
      "text/plain": [
       "week\n",
       "1    224\n",
       "5    208\n",
       "4    188\n",
       "2    168\n",
       "3    154\n",
       "6    132\n",
       "Name: revenue, dtype: int64"
      ]
     },
     "execution_count": 71,
     "metadata": {},
     "output_type": "execute_result"
    }
   ],
   "source": [
    "salesreport.groupby('week')['revenue'].apply(lambda x: x.isnull().sum()).sort_values(ascending = False)\n"
   ]
  },
  {
   "cell_type": "code",
   "execution_count": 72,
   "metadata": {},
   "outputs": [
    {
     "name": "stderr",
     "output_type": "stream",
     "text": [
      "C:\\Users\\abood\\AppData\\Local\\Temp\\ipykernel_14116\\4072986529.py:2: FutureWarning: The default of observed=False is deprecated and will be changed to True in a future version of pandas. Pass observed=False to retain current behavior or observed=True to adopt the future default and silence this warning.\n",
      "  salesreport.groupby('state')['revenue'].apply(lambda x: x.isnull().mean()).sort_values(ascending = False)\n"
     ]
    },
    {
     "data": {
      "text/plain": [
       "state\n",
       "Delaware          0.205882\n",
       "North Dakota      0.166667\n",
       "Alaska            0.125000\n",
       "Arkansas          0.106061\n",
       "New Hampshire     0.094340\n",
       "West Virginia     0.094118\n",
       "Tennessee         0.094118\n",
       "Kansas            0.091549\n",
       "Florida           0.086283\n",
       "Massachusetts     0.081633\n",
       "Ohio              0.081272\n",
       "Arizona           0.080997\n",
       "Missouri          0.080386\n",
       "Colorado          0.078261\n",
       "Washington        0.077612\n",
       "Indiana           0.076271\n",
       "Pennsylvania      0.075251\n",
       "Louisiana         0.073913\n",
       "New Jersey        0.073733\n",
       "South Dakota      0.073171\n",
       "Utah              0.072581\n",
       "Wisconsin         0.071146\n",
       "California        0.071047\n",
       "Virginia          0.069892\n",
       "Hawaii            0.069444\n",
       "Minnesota         0.069388\n",
       "Maryland          0.068441\n",
       "New York          0.068394\n",
       "Connecticut       0.067039\n",
       "Iowa              0.066667\n",
       "Illinois          0.066451\n",
       "Texas             0.065712\n",
       "Oregon            0.065502\n",
       "Michigan          0.064257\n",
       "North Carolina    0.063181\n",
       "Oklahoma          0.061224\n",
       "New Mexico        0.059524\n",
       "Georgia           0.059305\n",
       "Alabama           0.056075\n",
       "Nebraska          0.054945\n",
       "Kentucky          0.051643\n",
       "South Carolina    0.049107\n",
       "Nevada            0.049020\n",
       "Idaho             0.048387\n",
       "Maine             0.047619\n",
       "Rhode Island      0.046512\n",
       "Montana           0.044444\n",
       "Mississippi       0.043165\n",
       "Vermont           0.035714\n",
       "Wyoming           0.030303\n",
       "Name: revenue, dtype: float64"
      ]
     },
     "execution_count": 72,
     "metadata": {},
     "output_type": "execute_result"
    }
   ],
   "source": [
    "# Group by 'other_column' and calculate the percentage of missing values in 'column_with_missing_values'\n",
    "salesreport.groupby('state')['revenue'].apply(lambda x: x.isnull().mean()).sort_values(ascending = False)\n",
    "\n"
   ]
  },
  {
   "cell_type": "code",
   "execution_count": 73,
   "metadata": {},
   "outputs": [
    {
     "name": "stderr",
     "output_type": "stream",
     "text": [
      "C:\\Users\\abood\\AppData\\Local\\Temp\\ipykernel_14116\\409633323.py:1: FutureWarning: The default of observed=False is deprecated and will be changed to True in a future version of pandas. Pass observed=False to retain current behavior or observed=True to adopt the future default and silence this warning.\n",
      "  salesreport.groupby('sales_method')['revenue'].apply(lambda x: x.isnull().mean()).sort_values(ascending = False)\n"
     ]
    },
    {
     "data": {
      "text/plain": [
       "sales_method\n",
       "Email + Call    0.135692\n",
       "Email           0.072864\n",
       "Call            0.036477\n",
       "Name: revenue, dtype: float64"
      ]
     },
     "execution_count": 73,
     "metadata": {},
     "output_type": "execute_result"
    }
   ],
   "source": [
    "salesreport.groupby('sales_method')['revenue'].apply(lambda x: x.isnull().mean()).sort_values(ascending = False)"
   ]
  },
  {
   "cell_type": "markdown",
   "metadata": {},
   "source": [
    "Based on the analysis, there appears to be no significant relationship between the missing data and other categorical variables in the dataset. This suggests the data is Missing Completely at Random (MCAR)"
   ]
  },
  {
   "cell_type": "markdown",
   "metadata": {},
   "source": [
    "Given that the missing data is primarily Missing Completely at Random (MCAR) and its relatively small volume, imputation has been selected as the preferred method for handling missing values. This approach preserves sample size while minimizing potential bias, ensuring robust subsequent analyses."
   ]
  },
  {
   "cell_type": "code",
   "execution_count": 74,
   "metadata": {},
   "outputs": [],
   "source": [
    "salesreport.dropna(inplace= True)"
   ]
  },
  {
   "cell_type": "code",
   "execution_count": 75,
   "metadata": {},
   "outputs": [
    {
     "data": {
      "text/plain": [
       "0"
      ]
     },
     "execution_count": 75,
     "metadata": {},
     "output_type": "execute_result"
    }
   ],
   "source": [
    "salesreport['revenue'].isnull().sum()"
   ]
  },
  {
   "cell_type": "markdown",
   "metadata": {},
   "source": [
    "geting a summary statistic"
   ]
  },
  {
   "cell_type": "code",
   "execution_count": 76,
   "metadata": {},
   "outputs": [
    {
     "data": {
      "text/plain": [
       "count    13926.000000\n",
       "mean        93.934943\n",
       "std         47.435312\n",
       "min         32.540000\n",
       "25%         52.470000\n",
       "50%         89.500000\n",
       "75%        107.327500\n",
       "max        238.320000\n",
       "Name: revenue, dtype: float64"
      ]
     },
     "execution_count": 76,
     "metadata": {},
     "output_type": "execute_result"
    }
   ],
   "source": [
    "salesreport['revenue'].describe()"
   ]
  },
  {
   "cell_type": "markdown",
   "metadata": {},
   "source": [
    "Given the high standard deviation of 47.4 and the maximum value being double the third quartile, there is potential for outliers. To identify these outliers, we will calculate the outlier threshold and closely examine data points exceeding this limit for any unusual patterns or behaviors."
   ]
  },
  {
   "cell_type": "code",
   "execution_count": 77,
   "metadata": {},
   "outputs": [
    {
     "data": {
      "text/html": [
       "<div>\n",
       "<style scoped>\n",
       "    .dataframe tbody tr th:only-of-type {\n",
       "        vertical-align: middle;\n",
       "    }\n",
       "\n",
       "    .dataframe tbody tr th {\n",
       "        vertical-align: top;\n",
       "    }\n",
       "\n",
       "    .dataframe thead th {\n",
       "        text-align: right;\n",
       "    }\n",
       "</style>\n",
       "<table border=\"1\" class=\"dataframe\">\n",
       "  <thead>\n",
       "    <tr style=\"text-align: right;\">\n",
       "      <th></th>\n",
       "      <th>nb_sold</th>\n",
       "      <th>revenue</th>\n",
       "      <th>years_as_customer</th>\n",
       "      <th>nb_site_visits</th>\n",
       "    </tr>\n",
       "  </thead>\n",
       "  <tbody>\n",
       "    <tr>\n",
       "      <th>count</th>\n",
       "      <td>634.000000</td>\n",
       "      <td>634.000000</td>\n",
       "      <td>634.000000</td>\n",
       "      <td>634.000000</td>\n",
       "    </tr>\n",
       "    <tr>\n",
       "      <th>mean</th>\n",
       "      <td>14.586751</td>\n",
       "      <td>219.427792</td>\n",
       "      <td>4.022082</td>\n",
       "      <td>28.652997</td>\n",
       "    </tr>\n",
       "    <tr>\n",
       "      <th>std</th>\n",
       "      <td>0.893834</td>\n",
       "      <td>15.484224</td>\n",
       "      <td>4.369160</td>\n",
       "      <td>2.968944</td>\n",
       "    </tr>\n",
       "    <tr>\n",
       "      <th>min</th>\n",
       "      <td>13.000000</td>\n",
       "      <td>189.630000</td>\n",
       "      <td>0.000000</td>\n",
       "      <td>20.000000</td>\n",
       "    </tr>\n",
       "    <tr>\n",
       "      <th>25%</th>\n",
       "      <td>15.000000</td>\n",
       "      <td>223.147500</td>\n",
       "      <td>1.000000</td>\n",
       "      <td>27.000000</td>\n",
       "    </tr>\n",
       "    <tr>\n",
       "      <th>50%</th>\n",
       "      <td>15.000000</td>\n",
       "      <td>226.385000</td>\n",
       "      <td>3.000000</td>\n",
       "      <td>29.000000</td>\n",
       "    </tr>\n",
       "    <tr>\n",
       "      <th>75%</th>\n",
       "      <td>15.000000</td>\n",
       "      <td>228.905000</td>\n",
       "      <td>5.000000</td>\n",
       "      <td>31.000000</td>\n",
       "    </tr>\n",
       "    <tr>\n",
       "      <th>max</th>\n",
       "      <td>16.000000</td>\n",
       "      <td>238.320000</td>\n",
       "      <td>26.000000</td>\n",
       "      <td>37.000000</td>\n",
       "    </tr>\n",
       "  </tbody>\n",
       "</table>\n",
       "</div>"
      ],
      "text/plain": [
       "          nb_sold     revenue  years_as_customer  nb_site_visits\n",
       "count  634.000000  634.000000         634.000000      634.000000\n",
       "mean    14.586751  219.427792           4.022082       28.652997\n",
       "std      0.893834   15.484224           4.369160        2.968944\n",
       "min     13.000000  189.630000           0.000000       20.000000\n",
       "25%     15.000000  223.147500           1.000000       27.000000\n",
       "50%     15.000000  226.385000           3.000000       29.000000\n",
       "75%     15.000000  228.905000           5.000000       31.000000\n",
       "max     16.000000  238.320000          26.000000       37.000000"
      ]
     },
     "execution_count": 77,
     "metadata": {},
     "output_type": "execute_result"
    }
   ],
   "source": [
    "\n",
    "# Calculate Q1 (25th percentile) and Q3 (75th percentile)\n",
    "Q1 = salesreport['revenue'].quantile(0.25)\n",
    "Q3 = salesreport['revenue'].quantile(0.75)\n",
    "IQR = Q3 - Q1\n",
    "# Calculate the thresholds\n",
    "upper = Q3 + (1.5 * IQR)\n",
    "lower = Q1 - (1.5 * IQR)\n",
    "# Identify outliers\n",
    "salesreport[(salesreport['revenue'] < lower ) | (salesreport['revenue'] > upper )].describe()\n"
   ]
  },
  {
   "cell_type": "markdown",
   "metadata": {},
   "source": [
    "Upon inspection, the identified outliers are primarily attributed to high numbers of items sold. This suggests potential high-performing sales or unusual sales events."
   ]
  },
  {
   "cell_type": "markdown",
   "metadata": {},
   "source": [
    "The `revenue` column has been validated "
   ]
  },
  {
   "cell_type": "markdown",
   "metadata": {},
   "source": [
    "#### 3.`years_as_customer`"
   ]
  },
  {
   "cell_type": "markdown",
   "metadata": {},
   "source": [
    "The `years_as_customer` column should accurately reflect the number of years a customer has been purchasing from the company, with a theoretical maximum of 40 years since the company's founding in 1984. Any values exceeding this limit indicate potential data inconsistencies and require further investigation.\""
   ]
  },
  {
   "cell_type": "code",
   "execution_count": 78,
   "metadata": {},
   "outputs": [
    {
     "data": {
      "text/plain": [
       "0"
      ]
     },
     "execution_count": 78,
     "metadata": {},
     "output_type": "execute_result"
    }
   ],
   "source": [
    "salesreport['years_as_customer'].isnull().sum()"
   ]
  },
  {
   "cell_type": "markdown",
   "metadata": {},
   "source": [
    "No missing values were detected"
   ]
  },
  {
   "cell_type": "markdown",
   "metadata": {},
   "source": [
    "geting a summary statistic"
   ]
  },
  {
   "cell_type": "code",
   "execution_count": 79,
   "metadata": {},
   "outputs": [
    {
     "data": {
      "text/plain": [
       "count    13926.000000\n",
       "mean         4.978960\n",
       "std          5.047828\n",
       "min          0.000000\n",
       "25%          1.000000\n",
       "50%          3.000000\n",
       "75%          7.000000\n",
       "max         63.000000\n",
       "Name: years_as_customer, dtype: float64"
      ]
     },
     "execution_count": 79,
     "metadata": {},
     "output_type": "execute_result"
    }
   ],
   "source": [
    "salesreport['years_as_customer'].describe()"
   ]
  },
  {
   "cell_type": "markdown",
   "metadata": {},
   "source": [
    "Based on the summary statistics, there appear to be potential data entry errors in the `years_as_customer` column, as the maximum value exceeds a possible upper limit of 40 years. We will investigate records with values greater than 40 to identify and correct these inconsistencies.\""
   ]
  },
  {
   "cell_type": "code",
   "execution_count": 80,
   "metadata": {},
   "outputs": [
    {
     "data": {
      "text/html": [
       "<div>\n",
       "<style scoped>\n",
       "    .dataframe tbody tr th:only-of-type {\n",
       "        vertical-align: middle;\n",
       "    }\n",
       "\n",
       "    .dataframe tbody tr th {\n",
       "        vertical-align: top;\n",
       "    }\n",
       "\n",
       "    .dataframe thead th {\n",
       "        text-align: right;\n",
       "    }\n",
       "</style>\n",
       "<table border=\"1\" class=\"dataframe\">\n",
       "  <thead>\n",
       "    <tr style=\"text-align: right;\">\n",
       "      <th></th>\n",
       "      <th>week</th>\n",
       "      <th>sales_method</th>\n",
       "      <th>customer_id</th>\n",
       "      <th>nb_sold</th>\n",
       "      <th>revenue</th>\n",
       "      <th>years_as_customer</th>\n",
       "      <th>nb_site_visits</th>\n",
       "      <th>state</th>\n",
       "    </tr>\n",
       "  </thead>\n",
       "  <tbody>\n",
       "    <tr>\n",
       "      <th>13741</th>\n",
       "      <td>2</td>\n",
       "      <td>Email</td>\n",
       "      <td>18919515-a618-430c-9a05-2c7d8fea96af</td>\n",
       "      <td>10</td>\n",
       "      <td>97.22</td>\n",
       "      <td>63</td>\n",
       "      <td>24</td>\n",
       "      <td>California</td>\n",
       "    </tr>\n",
       "    <tr>\n",
       "      <th>13800</th>\n",
       "      <td>4</td>\n",
       "      <td>Call</td>\n",
       "      <td>2ea97d34-571d-4e1b-95be-fea1c404649f</td>\n",
       "      <td>10</td>\n",
       "      <td>50.47</td>\n",
       "      <td>47</td>\n",
       "      <td>27</td>\n",
       "      <td>California</td>\n",
       "    </tr>\n",
       "  </tbody>\n",
       "</table>\n",
       "</div>"
      ],
      "text/plain": [
       "      week sales_method                           customer_id  nb_sold  \\\n",
       "13741    2        Email  18919515-a618-430c-9a05-2c7d8fea96af       10   \n",
       "13800    4         Call  2ea97d34-571d-4e1b-95be-fea1c404649f       10   \n",
       "\n",
       "       revenue  years_as_customer  nb_site_visits       state  \n",
       "13741    97.22                 63              24  California  \n",
       "13800    50.47                 47              27  California  "
      ]
     },
     "execution_count": 80,
     "metadata": {},
     "output_type": "execute_result"
    }
   ],
   "source": [
    "salesreport[salesreport['years_as_customer']> 40]"
   ]
  },
  {
   "cell_type": "markdown",
   "metadata": {},
   "source": [
    "Due to the lack of additional context and the minimal impact on the dataset, removing the two rows with inaccurate years_as_customer values is the recommended course of action."
   ]
  },
  {
   "cell_type": "code",
   "execution_count": 81,
   "metadata": {},
   "outputs": [],
   "source": [
    "salesreport = salesreport[salesreport['years_as_customer']<= 40]"
   ]
  },
  {
   "cell_type": "code",
   "execution_count": 82,
   "metadata": {},
   "outputs": [
    {
     "data": {
      "text/html": [
       "<div>\n",
       "<style scoped>\n",
       "    .dataframe tbody tr th:only-of-type {\n",
       "        vertical-align: middle;\n",
       "    }\n",
       "\n",
       "    .dataframe tbody tr th {\n",
       "        vertical-align: top;\n",
       "    }\n",
       "\n",
       "    .dataframe thead th {\n",
       "        text-align: right;\n",
       "    }\n",
       "</style>\n",
       "<table border=\"1\" class=\"dataframe\">\n",
       "  <thead>\n",
       "    <tr style=\"text-align: right;\">\n",
       "      <th></th>\n",
       "      <th>week</th>\n",
       "      <th>sales_method</th>\n",
       "      <th>customer_id</th>\n",
       "      <th>nb_sold</th>\n",
       "      <th>revenue</th>\n",
       "      <th>years_as_customer</th>\n",
       "      <th>nb_site_visits</th>\n",
       "      <th>state</th>\n",
       "    </tr>\n",
       "  </thead>\n",
       "  <tbody>\n",
       "  </tbody>\n",
       "</table>\n",
       "</div>"
      ],
      "text/plain": [
       "Empty DataFrame\n",
       "Columns: [week, sales_method, customer_id, nb_sold, revenue, years_as_customer, nb_site_visits, state]\n",
       "Index: []"
      ]
     },
     "execution_count": 82,
     "metadata": {},
     "output_type": "execute_result"
    }
   ],
   "source": [
    "salesreport[salesreport['years_as_customer']> 40]"
   ]
  },
  {
   "cell_type": "markdown",
   "metadata": {},
   "source": [
    "The `years_as_customer` column has been validated "
   ]
  },
  {
   "cell_type": "markdown",
   "metadata": {},
   "source": [
    "#### 4.`nb_site_visits`"
   ]
  },
  {
   "cell_type": "markdown",
   "metadata": {},
   "source": [
    "This column should include, number of times the customer has visited our website\n",
    "in the last 6 months\n"
   ]
  },
  {
   "cell_type": "code",
   "execution_count": 83,
   "metadata": {},
   "outputs": [
    {
     "data": {
      "text/plain": [
       "0"
      ]
     },
     "execution_count": 83,
     "metadata": {},
     "output_type": "execute_result"
    }
   ],
   "source": [
    "salesreport['nb_site_visits'].isnull().sum()"
   ]
  },
  {
   "cell_type": "markdown",
   "metadata": {},
   "source": [
    "No missing values were detected"
   ]
  },
  {
   "cell_type": "markdown",
   "metadata": {},
   "source": [
    "geting a summary statistic"
   ]
  },
  {
   "cell_type": "code",
   "execution_count": 84,
   "metadata": {},
   "outputs": [
    {
     "data": {
      "text/plain": [
       "count    13924.000000\n",
       "mean        24.946926\n",
       "std          3.491690\n",
       "min         12.000000\n",
       "25%         23.000000\n",
       "50%         25.000000\n",
       "75%         27.000000\n",
       "max         37.000000\n",
       "Name: nb_site_visits, dtype: float64"
      ]
     },
     "execution_count": 84,
     "metadata": {},
     "output_type": "execute_result"
    }
   ],
   "source": [
    "salesreport['nb_site_visits'].describe()"
   ]
  },
  {
   "cell_type": "markdown",
   "metadata": {},
   "source": [
    "Based on the summary statistics, the data for this column appears to have no outliers. The values range from 12 to 36 with a mean of 24.9, indicating a relatively consistent distribution."
   ]
  },
  {
   "cell_type": "markdown",
   "metadata": {},
   "source": [
    "The `nb_site_visits` column has been validated "
   ]
  },
  {
   "cell_type": "markdown",
   "metadata": {},
   "source": [
    "### After Data Validation"
   ]
  },
  {
   "cell_type": "code",
   "execution_count": 85,
   "metadata": {},
   "outputs": [
    {
     "data": {
      "text/plain": [
       "(13924, 8)"
      ]
     },
     "execution_count": 85,
     "metadata": {},
     "output_type": "execute_result"
    }
   ],
   "source": [
    "salesreport.shape"
   ]
  },
  {
   "cell_type": "markdown",
   "metadata": {},
   "source": [
    "After the data validation, the dataset contains **13924 rows and 8 columns** without missing values."
   ]
  },
  {
   "cell_type": "markdown",
   "metadata": {},
   "source": [
    "# Exploratory Analysis"
   ]
  },
  {
   "cell_type": "markdown",
   "metadata": {},
   "source": [
    "### How many customers were there for each approach"
   ]
  },
  {
   "cell_type": "markdown",
   "metadata": {},
   "source": [
    "Email was the most effective customer acquisition method, followed by phone calls, with hybrid approaches demonstrating the lowest amount of customers."
   ]
  },
  {
   "cell_type": "code",
   "execution_count": 86,
   "metadata": {},
   "outputs": [
    {
     "data": {
      "text/plain": [
       "Text(0, 0.5, 'Number of Customers')"
      ]
     },
     "execution_count": 86,
     "metadata": {},
     "output_type": "execute_result"
    },
    {
     "data": {
      "image/png": "[encoded data removed]",
      "text/plain": [
       "<Figure size 640x480 with 1 Axes>"
      ]
     },
     "metadata": {},
     "output_type": "display_data"
    }
   ],
   "source": [
    "sns.countplot(data = salesreport , x='sales_method')\n",
    "plt.title('Number of Customers for Each Approach')\n",
    "plt.xlabel('Approach')\n",
    "plt.ylabel('Number of Customers')"
   ]
  },
  {
   "cell_type": "markdown",
   "metadata": {},
   "source": [
    "### What does the spread of the revenue look like overall? And for each method?"
   ]
  },
  {
   "cell_type": "markdown",
   "metadata": {},
   "source": [
    "#### Spread of the revenue overall"
   ]
  },
  {
   "cell_type": "markdown",
   "metadata": {},
   "source": [
    "The revenue distribution is notably right-skewed, with most values concentrated between 40 and 120, but extending up to 220. There's significant variability in the data, as evidenced by the wide spread in the histogram and the large box in the box plot. The distribution includes several high-value outliers that stretch the upper range of revenues."
   ]
  },
  {
   "cell_type": "markdown",
   "metadata": {},
   "source": [
    "Our revenue data shows a wide range, with most earnings falling between $40,000 and $120,000. However, we have some standout performers bringing in up to $220,000. This spread indicates diverse market performance."
   ]
  },
  {
   "cell_type": "code",
   "execution_count": 87,
   "metadata": {},
   "outputs": [
    {
     "data": {
      "text/plain": [
       "[Text(0, 0, '0'),\n",
       " Text(20, 0, '20'),\n",
       " Text(40, 0, '40'),\n",
       " Text(60, 0, '60'),\n",
       " Text(80, 0, '80'),\n",
       " Text(100, 0, '100'),\n",
       " Text(120, 0, '120'),\n",
       " Text(140, 0, '140'),\n",
       " Text(160, 0, '160'),\n",
       " Text(180, 0, '180'),\n",
       " Text(200, 0, '200'),\n",
       " Text(220, 0, '220')]"
      ]
     },
     "execution_count": 87,
     "metadata": {},
     "output_type": "execute_result"
    },
    {
     "data": {
      "image/png": "[encoded data removed]",
      "text/plain": [
       "<Figure size 1800x600 with 2 Axes>"
      ]
     },
     "metadata": {},
     "output_type": "display_data"
    }
   ],
   "source": [
    "xticks = list(np.arange(0,salesreport['revenue'].max(),20).astype(int))\n",
    "xlabels = [str(x) for x in xticks]\n",
    "fig, axes = plt.subplots(1, 2, figsize=(18, 6))\n",
    "sns.histplot(data=salesreport, x='revenue', ax=axes[0])\n",
    "axes[0].set_ylabel(\"Frequency\") \n",
    "axes[0].set_title(\"Revenue distribution\")\n",
    "axes[0].set_xticks(xticks)  \n",
    "axes[0].set_xticklabels(xlabels)  \n",
    "sns.boxplot(data=salesreport, x='revenue', ax=axes[1], meanline=True)\n",
    "axes[1].set_ylabel(\"Frequency\") \n",
    "axes[1].set_title(\"Revenue distribution\")\n",
    "axes[1].set_xticks(xticks)  \n",
    "axes[1].set_xticklabels(xlabels)  "
   ]
  },
  {
   "cell_type": "markdown",
   "metadata": {},
   "source": [
    "#### The spread of the revenue for each method?"
   ]
  },
  {
   "cell_type": "markdown",
   "metadata": {},
   "source": [
    "The box plot compares revenue distributions across three sales methods. Call sales have the lowest median and least variability. Email sales show a higher median with more spread and some high outliers. Email + Call exhibits the highest median revenue and widest distribution, indicating the greatest variability and potential for high earnings."
   ]
  },
  {
   "cell_type": "markdown",
   "metadata": {},
   "source": [
    "Our sales data reveals interesting patterns across different methods. Cold calling yields consistent but lower revenues. Email marketing shows better overall performance with some standout successes. However, our combined email and call approach is the clear winner, generating the highest average sales and greatest potential for big deals. While it's the most variable, it's also proving to be our most lucrative strategy. This suggests we should focus on refining and expanding our integrated email and call campaigns to maximize our revenue potential.."
   ]
  },
  {
   "cell_type": "code",
   "execution_count": 88,
   "metadata": {},
   "outputs": [
    {
     "data": {
      "text/plain": [
       "[Text(0, 0, '0'),\n",
       " Text(20, 0, '20'),\n",
       " Text(40, 0, '40'),\n",
       " Text(60, 0, '60'),\n",
       " Text(80, 0, '80'),\n",
       " Text(100, 0, '100'),\n",
       " Text(120, 0, '120'),\n",
       " Text(140, 0, '140'),\n",
       " Text(160, 0, '160'),\n",
       " Text(180, 0, '180'),\n",
       " Text(200, 0, '200'),\n",
       " Text(220, 0, '220')]"
      ]
     },
     "execution_count": 88,
     "metadata": {},
     "output_type": "execute_result"
    },
    {
     "data": {
      "image/png": "[encoded data removed]",
      "text/plain": [
       "<Figure size 1800x600 with 1 Axes>"
      ]
     },
     "metadata": {},
     "output_type": "display_data"
    }
   ],
   "source": [
    "xticks = list(np.arange(0,salesreport['revenue'].max(),20).astype(int))\n",
    "xlabels = [str(x) for x in xticks]\n",
    "fig, axes = plt.subplots(1, 1, figsize=(18, 6))\n",
    "sns.boxplot( y='sales_method',x='revenue',hue='sales_method', data=salesreport, ax = axes)\n",
    "axes.set_title(\"Revenue Distribution by Sales Method\")\n",
    "axes.set_xlabel(\"Revenue\")\n",
    "axes.set_ylabel(\"Sales Method\")\n",
    "axes.set_xticks(xticks)  \n",
    "axes.set_xticklabels(xlabels)  "
   ]
  },
  {
   "cell_type": "markdown",
   "metadata": {},
   "source": [
    "#### Was there any difference in revenue over time for each of the methods"
   ]
  },
  {
   "cell_type": "markdown",
   "metadata": {},
   "source": [
    "Revenue from all sales methods increased over six weeks. The \"Email + Call\" method consistently generated the highest revenue, showing the most significant growth. The \"Email\" method also saw positive growth, while the \"Call\" method had the slowest increase. These findings suggest a combined sales approach is most effective, but there's potential for improvement in email and call strategies."
   ]
  },
  {
   "cell_type": "code",
   "execution_count": 89,
   "metadata": {},
   "outputs": [
    {
     "data": {
      "text/plain": [
       "Text(0, 0.5, 'Revenue')"
      ]
     },
     "execution_count": 89,
     "metadata": {},
     "output_type": "execute_result"
    },
    {
     "data": {
      "image/png": "[encoded data removed]",
      "text/plain": [
       "<Figure size 1800x600 with 1 Axes>"
      ]
     },
     "metadata": {},
     "output_type": "display_data"
    }
   ],
   "source": [
    "fig, ax = plt.subplots(figsize=(18, 6))\n",
    "\n",
    "# Plot line plot\n",
    "sns.lineplot(x='week', y='revenue', data=salesreport, ax=ax, marker='o')\n",
    "\n",
    "# Set titles and labels\n",
    "ax.set_title(\"Revenue Over Weeks\")\n",
    "ax.set_xlabel(\"Week\")\n",
    "ax.set_ylabel(\"Revenue\")\n"
   ]
  },
  {
   "cell_type": "code",
   "execution_count": 90,
   "metadata": {},
   "outputs": [
    {
     "data": {
      "image/png": "[encoded data removed]",
      "text/plain": [
       "<Figure size 1800x600 with 1 Axes>"
      ]
     },
     "metadata": {},
     "output_type": "display_data"
    }
   ],
   "source": [
    "fig, ax = plt.subplots(figsize=(18, 6))\n",
    "\n",
    "# Plot line plot with different lines for each sales method\n",
    "sns.lineplot(x='week', y='revenue', hue='sales_method', data=salesreport, ax=ax, marker='o')\n",
    "\n",
    "# Set titles and labels\n",
    "ax.set_title(\"Revenue Over Weeks by Sales Method\")\n",
    "ax.set_xlabel(\"Week\")\n",
    "ax.set_ylabel(\"Revenue\")\n",
    "\n",
    "# Add legend\n",
    "ax.legend(title='Sales Method')\n",
    "\n",
    "plt.show()"
   ]
  },
  {
   "cell_type": "markdown",
   "metadata": {},
   "source": [
    "#### recommend sales approach"
   ]
  },
  {
   "cell_type": "markdown",
   "metadata": {},
   "source": [
    "Based on the data analysis, the sales team should **prioritize the email + call approach**. This method consistently generates the highest revenue while maintaining a relatively low customer interaction time of 10 minutes. While the email-only approach also yields positive results, the incremental time investment for a brief follow-up call is justified by the potential for increased revenue. Conversely, the call-only method demonstrates lower revenue generation and a significantly higher time commitment of approximately 30 minutes per customer, making it less efficient."
   ]
  },
  {
   "cell_type": "markdown",
   "metadata": {},
   "source": [
    "### Business Metrics\n"
   ]
  },
  {
   "cell_type": "markdown",
   "metadata": {},
   "source": [
    "Given the company's objective to sustain high revenue while adopting innovative sales strategies, the **\"email + call\" approach percentage is a key business metric**. This metric currently stands at 15.97% of total sales. This method demonstrates high revenue growth while maintaining efficient resource allocation and time efficiency, aligning with the company's goals. A strategic priority is to increase the utilization of this sales tactic. Additionally, **overall revenue remains a crucial performance indicator** for assessing overall company performance."
   ]
  },
  {
   "cell_type": "code",
   "execution_count": 91,
   "metadata": {},
   "outputs": [
    {
     "data": {
      "image/png": "[encoded data removed]",
      "text/plain": [
       "<Figure size 1000x600 with 1 Axes>"
      ]
     },
     "metadata": {},
     "output_type": "display_data"
    }
   ],
   "source": [
    "import matplotlib.pyplot as plt\n",
    "import seaborn as sns\n",
    "import pandas as pd\n",
    "\n",
    "# Assuming salesreport is a DataFrame with 'sales_method' column\n",
    "# salesreport = pd.read_csv('path_to_your_data.csv')\n",
    "\n",
    "# Calculate the proportion of each sales method\n",
    "sales_method_counts = salesreport['sales_method'].value_counts(normalize=True)\n",
    "sales_method_proportions = sales_method_counts * 100  # Convert to percentage\n",
    "\n",
    "# Create a bar plot\n",
    "fig, ax = plt.subplots(figsize=(10, 6))\n",
    "sns.barplot(x=sales_method_proportions.index, y=sales_method_proportions.values, ax=ax)\n",
    "\n",
    "# Annotate each bar with the proportion value\n",
    "for p in ax.patches:\n",
    "    height = p.get_height()\n",
    "    ax.text(p.get_x() + p.get_width() / 2., height + 0.5, f'{height:.2f}%', ha='center', va='bottom')\n",
    "\n",
    "# Set titles and labels\n",
    "ax.set_title(\"Proportion of Each Sales Method\")\n",
    "ax.set_xlabel(\"Sales Method\")\n",
    "ax.set_ylabel(\"Proportion (%)\")\n",
    "\n",
    "plt.show()"
   ]
  },
  {
   "cell_type": "markdown",
   "metadata": {},
   "source": [
    "# Business Metrics"
   ]
  },
  {
   "cell_type": "markdown",
   "metadata": {},
   "source": [
    "Given the company's objective to sustain high revenue while adopting innovative sales strategies, the **\"email + call\" approach percentage is a key business metric**. This metric currently stands at **15.97%** of total sales. This method demonstrates high revenue growth while maintaining efficient resource allocation and time efficiency, aligning with the company's goals. A strategic priority is to increase the utilization of this sales tactic. Additionally, **overall revenue remains a crucial performance indicator** for assessing overall company performance."
   ]
  },
  {
   "cell_type": "code",
   "execution_count": 92,
   "metadata": {},
   "outputs": [
    {
     "data": {
      "image/png": "[encoded data removed]",
      "text/plain": [
       "<Figure size 1000x600 with 1 Axes>"
      ]
     },
     "metadata": {},
     "output_type": "display_data"
    }
   ],
   "source": [
    "import matplotlib.pyplot as plt\n",
    "import seaborn as sns\n",
    "import pandas as pd\n",
    "\n",
    "# Assuming salesreport is a DataFrame with 'sales_method' column\n",
    "# salesreport = pd.read_csv('path_to_your_data.csv')\n",
    "\n",
    "# Calculate the proportion of each sales method\n",
    "sales_method_counts = salesreport['sales_method'].value_counts(normalize=True)\n",
    "sales_method_proportions = sales_method_counts * 100  # Convert to percentage\n",
    "\n",
    "# Create a bar plot\n",
    "fig, ax = plt.subplots(figsize=(10, 6))\n",
    "sns.barplot(x=sales_method_proportions.index, y=sales_method_proportions.values, ax=ax)\n",
    "\n",
    "# Annotate each bar with the proportion value\n",
    "for p in ax.patches:\n",
    "    height = p.get_height()\n",
    "    ax.text(p.get_x() + p.get_width() / 2., height + 0.5, f'{height:.2f}%', ha='center', va='bottom')\n",
    "\n",
    "# Set titles and labels\n",
    "ax.set_title(\"Proportion of Each Sales Method\")\n",
    "ax.set_xlabel(\"Sales Method\")\n",
    "ax.set_ylabel(\"Proportion (%)\")\n",
    "\n",
    "plt.show()"
   ]
  },
  {
   "cell_type": "markdown",
   "metadata": {},
   "source": [
    "# Final summary and recommendations"
   ]
  },
  {
   "cell_type": "markdown",
   "metadata": {},
   "source": [
    "## Final Summary:\n",
    "The analysis focused on evaluating different sales methods to determine the most effective strategy for maximizing revenue while minimizing customer interaction time. The dataset underwent thorough validation, with key findings highlighting the following:\n",
    "\n",
    "**Sales Methods Evaluation:**\n",
    "- The \"email + call\" method consistently generated the highest revenue with the least customer interaction time, making it the most efficient and effective approach.\n",
    "- The \"email-only\" method also showed positive results, though slightly less effective than the \"email + call\" combination.\n",
    "- The \"call-only\" method was the least efficient, requiring more time and generating lower revenue.\n",
    "**Business Metrics:**\n",
    "- The percentage of sales using the \"email + call\" approach is a critical business metric, currently standing at 15.97% of total sales.\n",
    "- Overall revenue remains a key performance indicator for the company.\n",
    "## Recommendations:\n",
    "**Prioritize the \"Email + Call\" Sales Method**:\n",
    "- Encourage the sales team to focus on the \"email + call\" approach to optimize both revenue and time efficiency.\n",
    "- Consider training and resources to further improve the effectiveness of this method.\n",
    "\n",
    "**Monitor and Increase the Use of the \"Email + Call\" Approach:**\n",
    "- Set targets to increase the utilization of this sales method, given its proven effectiveness.\n",
    "- Regularly track the percentage of sales using this approach as a key business metric.\n",
    "\n",
    "**Optimize Resource Allocation:**\n",
    "- Reduce reliance on the \"call-only\" method, as it is less efficient and more time-consuming.\n",
    "- Allocate resources to support the more effective sales strategies, such as \"email + call\" and \"email-only\" methods."
   ]
  }
 ],
 "metadata": {
  "kernelspec": {
   "display_name": "Python 3",
   "language": "python",
   "name": "python3"
  },
  "language_info": {
   "codemirror_mode": {
    "name": "ipython",
    "version": 3
   },
   "file_extension": ".py",
   "mimetype": "text/x-python",
   "name": "python",
   "nbconvert_exporter": "python",
   "pygments_lexer": "ipython3",
   "version": "3.12.5"
  }
 },
 "nbformat": 4,
 "nbformat_minor": 2
}
